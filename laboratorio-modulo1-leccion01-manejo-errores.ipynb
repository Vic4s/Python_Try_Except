{
 "cells": [
  {
   "cell_type": "markdown",
   "metadata": {},
   "source": [
    "\n",
    "<div style=\"text-align: center;\">\n",
    "  <img src=\"https://github.com/Hack-io-Data/Imagenes/blob/main/01-LogosHackio/logo_celeste@4x.png?raw=true\" alt=\"esquema\" />\n",
    "</div>\n"
   ]
  },
  {
   "cell_type": "markdown",
   "metadata": {},
   "source": [
    "# Laboratorio de Python: manejo de errores."
   ]
  },
  {
   "cell_type": "markdown",
   "metadata": {},
   "source": [
    "## Ejercicio 1: División con manejo de excepciones\n",
    "\n",
    "Escribe un programa que pida al usuario dos números e intente dividirlos. Si el usuario ingresa un valor no numérico o intenta dividir por cero, maneja esas excepciones de manera adecuada. Asegúrate de mostrar un mensaje indicando si la división fue exitosa o no.\n"
   ]
  },
  {
   "cell_type": "code",
   "execution_count": 1,
   "metadata": {},
   "outputs": [
    {
     "name": "stdout",
     "output_type": "stream",
     "text": [
      "12\n",
      "3\n",
      "Division exitosa. \n",
      " \tResultado: 4.0\n"
     ]
    }
   ],
   "source": [
    "num1 = input(\"Introduce un numero:\")\n",
    "num2 = input(\"Introduce otro numero:\")\n",
    "print(num1)\n",
    "print(num2)\n",
    "\n",
    "try:\n",
    "    n1 = int(num1)\n",
    "    n2 = int(num2)\n",
    "    result = n1/n2\n",
    "\n",
    "except ValueError:\n",
    "    print(\"Asegúrate de introducir un número entero\")\n",
    "\n",
    "except ZeroDivisionError:\n",
    "    print(\"No puedes dividir un número por 0\")\n",
    "\n",
    "else:\n",
    "    print(f\"Division exitosa. \\n \\tResultado: {result}\")\n",
    "\n"
   ]
  },
  {
   "cell_type": "markdown",
   "metadata": {},
   "source": [
    "## Ejercicio 2: Acceso a archivos\n",
    "\n",
    "Escribe un programa que intente abrir un archivo llamado \"datos.txt\". Si el archivo no existe, captura la excepción y muestra un mensaje de error. Asegúrate de cerrar el archivo correctamente en la sección `finally`.\n"
   ]
  },
  {
   "cell_type": "code",
   "execution_count": 9,
   "metadata": {},
   "outputs": [
    {
     "name": "stdout",
     "output_type": "stream",
     "text": [
      "Archivo no encontrado\n"
     ]
    }
   ],
   "source": [
    "archivo = None\n",
    "try:\n",
    "    #Abrir el archivo en modo lectura\n",
    "    archivo = open(\"datos.txt\", \"r\")\n",
    "    contenido = archivo.read()\n",
    "    print(contenido)\n",
    "except IOError:\n",
    "    print(\"Archivo no encontrado\")\n",
    "finally:\n",
    "    if archivo != None:\n",
    "        archivo.close()\n"
   ]
  },
  {
   "cell_type": "markdown",
   "metadata": {},
   "source": [
    "## Ejercicio 3: Conversión de cadenas a enteros\n",
    "\n",
    "Escribe un programa que pida una lista de números separados por comas y convierta cada valor a un número entero. Maneja las excepciones para valores que no sean convertibles y asegúrate de informar si la conversión fue exitosa o no.\n"
   ]
  },
  {
   "cell_type": "code",
   "execution_count": 5,
   "metadata": {},
   "outputs": [
    {
     "name": "stdout",
     "output_type": "stream",
     "text": [
      "['1', '2', 'r', '5', '6', '7']\n",
      "r no es un número\n",
      "[1, 2, None, 5, 6, 7]\n"
     ]
    }
   ],
   "source": [
    "cadena_nums = input(\"Escribe una lista de números separados por comas:\")\n",
    "\n",
    "lista_str = cadena_nums.split(\",\")\n",
    "print(lista_str)\n",
    "lista_nums = []\n",
    "\n",
    "for item in lista_str:\n",
    "    try:\n",
    "        lista_nums.append(int(item))\n",
    "    except ValueError:\n",
    "        print(f\"{item} no es un número\")\n",
    "        lista_nums.append(None)\n",
    "\n",
    "print(lista_nums)"
   ]
  },
  {
   "cell_type": "markdown",
   "metadata": {},
   "source": [
    "#### Ejercicio 4: Cálculo del promedio con manejo de excepciones\n",
    "\n",
    "Escribe una función que reciba una lista de números y calcule su promedio. Si la lista está vacía, lanza una excepción personalizada y maneja el error adecuadamente.\n"
   ]
  },
  {
   "cell_type": "code",
   "execution_count": 15,
   "metadata": {},
   "outputs": [
    {
     "name": "stdout",
     "output_type": "stream",
     "text": [
      "Promedio de [1, 2, 3, 4, 5] = 3.0\n",
      "La lista está vacia\n"
     ]
    }
   ],
   "source": [
    "\n",
    "def promedio(lista):\n",
    "    suma = 0\n",
    "\n",
    "    try:\n",
    "      for elemento in lista:\n",
    "            suma += elemento\n",
    "      print(f\"Promedio de {lista} = {suma/(len(lista))}\" )\n",
    "            \n",
    "    except ZeroDivisionError:\n",
    "        print(\"La lista está vacia\")\n",
    "\n",
    "numeros = [1,2,3,4,5]\n",
    "promedio(numeros)\n",
    "\n",
    "vacia = []\n",
    "promedio(vacia)"
   ]
  },
  {
   "cell_type": "markdown",
   "metadata": {},
   "source": [
    "#### Ejercicio 5: Conversión segura de números\n",
    "\n",
    "Escribe un programa que convierta una cadena a número flotante e intente realizar una operación aritmética. Si la conversión falla, maneja la excepción y continúa con el flujo normal."
   ]
  },
  {
   "cell_type": "code",
   "execution_count": 19,
   "metadata": {},
   "outputs": [
    {
     "name": "stdout",
     "output_type": "stream",
     "text": [
      "No se puede convertir\n"
     ]
    }
   ],
   "source": [
    "cadena = \"abc\"\n",
    "\n",
    "try:\n",
    "    float(cadena)\n",
    "    print(cadena)\n",
    "except ValueError:\n",
    "    print(\"No se puede convertir\")"
   ]
  },
  {
   "cell_type": "markdown",
   "metadata": {},
   "source": [
    "#### Ejercicio 6: Acceso a claves en diccionarios\n",
    "\n",
    "Escribe un programa que intente acceder a una clave específica en un diccionario. Si la clave no existe, maneja la excepción `KeyError` y muestra un mensaje indicando el problema."
   ]
  },
  {
   "cell_type": "code",
   "execution_count": 28,
   "metadata": {},
   "outputs": [
    {
     "name": "stdout",
     "output_type": "stream",
     "text": [
      "None\n",
      "Esa clave no existe en el diccionario\n"
     ]
    }
   ],
   "source": [
    "vehiculo = {\"marca\": \"Ford\",\n",
    "            \"modelo\": \"Mustang\"}\n",
    "\n",
    "# Usando .get no lanza la excepción\n",
    "print(vehiculo.get(\"cv\"))\n",
    "\n",
    "try: \n",
    "    # Acceder directamente usando los corchetes []\n",
    "    print(vehiculo[\"cv\"])\n",
    "except KeyError:\n",
    "    print(\"Esa clave no existe en el diccionario\")\n"
   ]
  },
  {
   "cell_type": "markdown",
   "metadata": {},
   "source": [
    "\n",
    "#### Ejercicio 7: Verificación de entradas de usuario\n",
    "\n",
    "Escribe un programa que pida al usuario que introduzca su edad. Si el usuario ingresa un valor no numérico o un valor fuera del rango esperado (por ejemplo, menor que 0 o mayor que 120), maneja las excepciones adecuadamente."
   ]
  },
  {
   "cell_type": "code",
   "execution_count": 19,
   "metadata": {},
   "outputs": [
    {
     "name": "stdout",
     "output_type": "stream",
     "text": [
      "Valor introducido no es un número\n"
     ]
    }
   ],
   "source": [
    "edad = input(\"Escribe tu edad:\")\n",
    "\n",
    "try:\n",
    "    if not edad.isdigit():\n",
    "            raise ValueError(\"Valor introducido no es un número\")\n",
    "\n",
    "    edad_numero = int(edad)\n",
    "    \n",
    "    if edad_numero < 0 or edad_numero > 120:\n",
    "        raise ValueError(\"La edad debe estar entre 0 y 120\")\n",
    "\n",
    "#except ValueError: Captura siempre este error genérico y no muestra los errores según condicionales\n",
    "#    print(\"Valor no válido\")\n",
    "\n",
    "except ValueError as e:\n",
    "    print(e)\n",
    "    \n",
    "else:\n",
    "    print(f\"Edad: {edad}\")"
   ]
  },
  {
   "cell_type": "markdown",
   "metadata": {},
   "source": [
    "#### Ejercicio 8: Extracción de valores de una lista\n",
    "\n",
    "Escribe una función que intente acceder a un índice específico en una lista. Si el índice está fuera del rango, maneja la excepción `IndexError` y muestra un mensaje adecuado.\n"
   ]
  },
  {
   "cell_type": "code",
   "execution_count": 33,
   "metadata": {},
   "outputs": [
    {
     "name": "stdout",
     "output_type": "stream",
     "text": [
      "Valor del indice 2 --> 3\n"
     ]
    }
   ],
   "source": [
    "\n",
    "def indice(lista, indice):\n",
    "    try:\n",
    "        print(f\"Valor del indice {indice} --> {lista[indice]}\")\n",
    "    except IndexError:\n",
    "        print(\"Ese indice no existe\")\n",
    "\n",
    "numeros = [1,2,3,4,5]\n",
    "indice(numeros, 2)"
   ]
  }
 ],
 "metadata": {
  "kernelspec": {
   "display_name": "Python 3",
   "language": "python",
   "name": "python3"
  },
  "language_info": {
   "codemirror_mode": {
    "name": "ipython",
    "version": 3
   },
   "file_extension": ".py",
   "mimetype": "text/x-python",
   "name": "python",
   "nbconvert_exporter": "python",
   "pygments_lexer": "ipython3",
   "version": "3.12.5"
  }
 },
 "nbformat": 4,
 "nbformat_minor": 2
}
